{
  "cells": [
    {
      "cell_type": "code",
      "execution_count": null,
      "metadata": {
        "colab": {
          "base_uri": "https://localhost:8080/"
        },
        "id": "CfnxLIsCSci_",
        "outputId": "3208edcf-c31a-4d9d-d702-df0988e1cd0f"
      },
      "outputs": [
        {
          "name": "stdout",
          "output_type": "stream",
          "text": [
            "Mounted at /content/drive\n"
          ]
        }
      ],
      "source": [
        "from google.colab import drive\n",
        "drive.mount('/content/drive')"
      ]
    },
    {
      "cell_type": "markdown",
      "metadata": {
        "id": "w00f_7knVCFw"
      },
      "source": [
        "# Question 1"
      ]
    },
    {
      "cell_type": "code",
      "execution_count": null,
      "metadata": {
        "colab": {
          "base_uri": "https://localhost:8080/"
        },
        "id": "jpcvWmMXU4Cf",
        "outputId": "94ee74a8-470e-4c64-d9b6-18a8e6c7e046"
      },
      "outputs": [
        {
          "name": "stdout",
          "output_type": "stream",
          "text": [
            "This declaration represents a political commitment among declaration partners to advance a positive vision for the Internet in this era of a united europe\n",
            "\n",
            "REVERSED STRING:\n",
            "Europe united a of era this in internet the for vision positive a advance to partners declaration among commitment political a represents declaration this\n"
          ]
        }
      ],
      "source": [
        "a=input()\n",
        "b=a.split(\" \")\n",
        "l=[]\n",
        "for i in b:\n",
        "    l.append(i)\n",
        "l=l[::-1]\n",
        "print(\"\\nREVERSED STRING:\")\n",
        "print(\" \".join(l).capitalize())"
      ]
    },
    {
      "cell_type": "markdown",
      "metadata": {
        "id": "kTVl9QybVKFz"
      },
      "source": [
        "# Question 2"
      ]
    },
    {
      "cell_type": "code",
      "execution_count": null,
      "metadata": {
        "colab": {
          "base_uri": "https://localhost:8080/"
        },
        "id": "TWhg6tH-VMx0",
        "outputId": "33de6c77-3d46-4355-f613-7adf6c92e833"
      },
      "outputs": [
        {
          "name": "stderr",
          "output_type": "stream",
          "text": [
            "[nltk_data] Downloading package punkt to /root/nltk_data...\n",
            "[nltk_data]   Package punkt is already up-to-date!\n"
          ]
        },
        {
          "data": {
            "text/plain": [
              "True"
            ]
          },
          "execution_count": 8,
          "metadata": {},
          "output_type": "execute_result"
        }
      ],
      "source": [
        "import nltk\n",
        "nltk.download('punkt')"
      ]
    },
    {
      "cell_type": "code",
      "execution_count": null,
      "metadata": {
        "colab": {
          "base_uri": "https://localhost:8080/"
        },
        "id": "k-E7S4GPVXXR",
        "outputId": "6221f5e1-6c6c-4b4d-fd90-c09fd42d0216"
      },
      "outputs": [
        {
          "data": {
            "text/plain": [
              "FreqDist({'a': 3, 'declaration': 2, 'This': 1, 'represents': 1, 'political': 1, 'commitment': 1, 'among': 1, 'partners': 1, 'to': 1, 'advance': 1, ...})"
            ]
          },
          "execution_count": 9,
          "metadata": {},
          "output_type": "execute_result"
        }
      ],
      "source": [
        "from nltk.probability import FreqDist\n",
        "fdist = FreqDist(t_text)\n",
        "fdist"
      ]
    },
    {
      "cell_type": "code",
      "execution_count": null,
      "metadata": {
        "colab": {
          "base_uri": "https://localhost:8080/"
        },
        "id": "7vPrzDrjVbPB",
        "outputId": "a3e12a85-e427-4dcf-a4a4-32454d965778"
      },
      "outputs": [
        {
          "data": {
            "text/plain": [
              "[('a', 3), ('declaration', 2)]"
            ]
          },
          "execution_count": 13,
          "metadata": {},
          "output_type": "execute_result"
        }
      ],
      "source": [
        "fdist1 = fdist.most_common(2)\n",
        "fdist1"
      ]
    }
  ],
  "metadata": {
    "colab": {
      "name": "Cartesian.ipynb",
      "provenance": []
    },
    "kernelspec": {
      "display_name": "Python 3",
      "name": "python3"
    },
    "language_info": {
      "name": "python"
    }
  },
  "nbformat": 4,
  "nbformat_minor": 0
}
